{
 "cells": [
  {
   "cell_type": "code",
   "execution_count": 1,
   "metadata": {},
   "outputs": [
    {
     "name": "stderr",
     "output_type": "stream",
     "text": [
      "C:\\ProgramData\\Anaconda3\\lib\\site-packages\\h5py\\__init__.py:36: FutureWarning: Conversion of the second argument of issubdtype from `float` to `np.floating` is deprecated. In future, it will be treated as `np.float64 == np.dtype(float).type`.\n",
      "  from ._conv import register_converters as _register_converters\n",
      "Using TensorFlow backend.\n"
     ]
    }
   ],
   "source": [
    "import numpy as np\n",
    "import pandas as pd\n",
    "from sklearn import linear_model, linear_model, naive_bayes, metrics, svm\n",
    "from sklearn.model_selection import train_test_split\n",
    "from sklearn.preprocessing import LabelEncoder, scale\n",
    "import matplotlib.pyplot as plt\n",
    "from sklearn import preprocessing\n",
    "from sklearn import decomposition, ensemble\n",
    "from sklearn.feature_extraction.text import TfidfVectorizer, CountVectorizer\n",
    "from sklearn.decomposition import PCA\n",
    "from sklearn.naive_bayes import GaussianNB, BernoulliNB\n",
    "from keras.preprocessing import text, sequence\n",
    "from keras import layers, models, optimizers\n",
    "import xgboost as xgb\n"
   ]
  },
  {
   "cell_type": "markdown",
   "metadata": {},
   "source": [
    "# read data from excel\n"
   ]
  },
  {
   "cell_type": "code",
   "execution_count": 2,
   "metadata": {},
   "outputs": [],
   "source": [
    "data = pd.read_csv('C:\\MSC\\ML\\Data\\TrainData.csv')\n",
    "test_data = pd.read_csv('C:\\MSC\\ML\\Data\\TestData.csv',encoding = 'unicode_escape')"
   ]
  },
  {
   "cell_type": "code",
   "execution_count": 3,
   "metadata": {},
   "outputs": [],
   "source": [
    "#train test split"
   ]
  },
  {
   "cell_type": "code",
   "execution_count": 4,
   "metadata": {},
   "outputs": [],
   "source": [
    "train_x, valid_x, train_y, valid_y = train_test_split(data['Tweet text'], data['Label'])\n",
    "test_x = test_data['Text']\n"
   ]
  },
  {
   "cell_type": "code",
   "execution_count": 5,
   "metadata": {},
   "outputs": [
    {
     "name": "stdout",
     "output_type": "stream",
     "text": [
      "0    1923\n",
      "1    1911\n",
      "Name: Label, dtype: int64\n"
     ]
    },
    {
     "data": {
      "image/png": "[encoded data removed]",
      "text/plain": [
       "<Figure size 432x288 with 1 Axes>"
      ]
     },
     "metadata": {},
     "output_type": "display_data"
    }
   ],
   "source": [
    "Target_table = data['Label'].value_counts()\n",
    "print(Target_table)\n",
    "\n",
    "plt.hist(data['Label'])\n",
    "plt.show()\n"
   ]
  },
  {
   "cell_type": "markdown",
   "metadata": {},
   "source": [
    "# create a count vectorizer object"
   ]
  },
  {
   "cell_type": "code",
   "execution_count": 6,
   "metadata": {},
   "outputs": [],
   "source": [
    "############################################ create a count vectorizer object ##########################\n",
    "def count_vect(data,train_x,valid_x,test_x):\n",
    "    count_vect = CountVectorizer(analyzer='word', token_pattern=r'\\w{1,}')\n",
    "    count_vect.fit(data)\n",
    "\n",
    "    feature_vec = count_vect.transform(data)\n",
    "    feature_vec = pd.DataFrame(feature_vec.toarray(), columns=count_vect.get_feature_names())\n",
    "\n",
    "\n",
    "    # transform the training and testation data using count vectorizer object\n",
    "    x_count_train =  count_vect.transform(train_x)\n",
    "    x_count_valid =  count_vect.transform(valid_x)\n",
    "    x_count_test = count_vect.transform(test_x)\n",
    "    x_count_train = pd.DataFrame(x_count_train.toarray(), columns=count_vect.get_feature_names())\n",
    "    x_count_valid = pd.DataFrame(x_count_valid.toarray(), columns=count_vect.get_feature_names())\n",
    "    x_count_test = pd.DataFrame(x_count_test.toarray(), columns=count_vect.get_feature_names())\n",
    "\n",
    "    return  feature_vec,x_count_train,x_count_valid, x_count_test\n"
   ]
  },
  {
   "cell_type": "code",
   "execution_count": 7,
   "metadata": {},
   "outputs": [],
   "source": [
    "\n",
    "############################################ create a tf-idf object ###################################\n",
    "def tfidf_count(data,train_x,valid_x,test_x,analy,ng_range):\n",
    "   tfidf_vect = TfidfVectorizer(analyzer=analy, token_pattern=r'\\w{1,}', max_features=5000,ngram_range=ng_range)\n",
    "   tfidf_vect.fit(data)\n",
    "\n",
    "   feature_vec =  tfidf_vect.transform(data)\n",
    "   xtrain_tfidf =  tfidf_vect.transform(train_x)\n",
    "   xvalid_tfidf =  tfidf_vect.transform(valid_x)\n",
    "   xtest_tfidf =  tfidf_vect.transform(test_x)\n",
    "\n",
    "\n",
    "   \n",
    "   feature_vec = pd.DataFrame(feature_vec.toarray(), columns= tfidf_vect.get_feature_names())\n",
    "   tfidf_train = pd.DataFrame(xtrain_tfidf.toarray(), columns=tfidf_vect.get_feature_names())\n",
    "   tfidf_valid = pd.DataFrame(xvalid_tfidf.toarray(), columns=tfidf_vect.get_feature_names())\n",
    "   tfidf_test = pd.DataFrame(xtest_tfidf.toarray(), columns=tfidf_vect.get_feature_names())\n",
    "\n",
    "   return feature_vec,tfidf_train,tfidf_valid,tfidf_test\n"
   ]
  },
  {
   "cell_type": "code",
   "execution_count": 8,
   "metadata": {},
   "outputs": [],
   "source": [
    "############################################ PCA ##################################################\n",
    "def PCA_analysis(data,train,valid,test):\n",
    "    pca = PCA(.95)\n",
    "    pca.fit(data)\n",
    "    pca_featurs = pca.transform(data)\n",
    "    pca_featurs = pd.DataFrame(data)\n",
    "\n",
    "    pca_trainx =  pca.transform(train)\n",
    "    pca_validx =  pca.transform(valid)\n",
    "    pca_testx =  pca.transform(test)\n",
    "\n",
    "\n",
    "    #train_pca = pd.DataFrame(pca_trainx)\n",
    "    #valid_pca = pd.DataFrame(pca_validx)\n",
    "    #test_pca = pd.DataFrame(pca_testx)\n",
    "\n",
    "    train_pca = pd.DataFrame(train)\n",
    "    valid_pca = pd.DataFrame(valid)\n",
    "    test_pca = pd.DataFrame(test)\n",
    "\n",
    "    return train_pca,valid_pca,test_pca\n"
   ]
  },
  {
   "cell_type": "code",
   "execution_count": 9,
   "metadata": {},
   "outputs": [],
   "source": [
    "######################## nb count vect ############################################\n",
    "features,train,valid,test = count_vect(data['Tweet text'],train_x,valid_x,test_x)\n",
    "train_x_count,valid_x_count,test_x_count = PCA_analysis(features,train,valid,test)\n"
   ]
  },
  {
   "cell_type": "markdown",
   "metadata": {},
   "source": [
    "# Description of the data set"
   ]
  },
  {
   "cell_type": "code",
   "execution_count": 10,
   "metadata": {},
   "outputs": [
    {
     "data": {
      "text/html": [
       "<div>\n",
       "<style scoped>\n",
       "    .dataframe tbody tr th:only-of-type {\n",
       "        vertical-align: middle;\n",
       "    }\n",
       "\n",
       "    .dataframe tbody tr th {\n",
       "        vertical-align: top;\n",
       "    }\n",
       "\n",
       "    .dataframe thead th {\n",
       "        text-align: right;\n",
       "    }\n",
       "</style>\n",
       "<table border=\"1\" class=\"dataframe\">\n",
       "  <thead>\n",
       "    <tr style=\"text-align: right;\">\n",
       "      <th></th>\n",
       "      <th>col_names</th>\n",
       "      <th>count</th>\n",
       "    </tr>\n",
       "  </thead>\n",
       "  <tbody>\n",
       "    <tr>\n",
       "      <th>11035</th>\n",
       "      <td>the</td>\n",
       "      <td>1074</td>\n",
       "    </tr>\n",
       "    <tr>\n",
       "      <th>7864</th>\n",
       "      <td>not</td>\n",
       "      <td>1042</td>\n",
       "    </tr>\n",
       "    <tr>\n",
       "      <th>5439</th>\n",
       "      <td>i</td>\n",
       "      <td>1011</td>\n",
       "    </tr>\n",
       "    <tr>\n",
       "      <th>10802</th>\n",
       "      <td>t</td>\n",
       "      <td>994</td>\n",
       "    </tr>\n",
       "    <tr>\n",
       "      <th>11270</th>\n",
       "      <td>to</td>\n",
       "      <td>938</td>\n",
       "    </tr>\n",
       "    <tr>\n",
       "      <th>439</th>\n",
       "      <td>a</td>\n",
       "      <td>797</td>\n",
       "    </tr>\n",
       "    <tr>\n",
       "      <th>2419</th>\n",
       "      <td>co</td>\n",
       "      <td>714</td>\n",
       "    </tr>\n",
       "    <tr>\n",
       "      <th>5373</th>\n",
       "      <td>http</td>\n",
       "      <td>681</td>\n",
       "    </tr>\n",
       "    <tr>\n",
       "      <th>9607</th>\n",
       "      <td>sarcasm</td>\n",
       "      <td>606</td>\n",
       "    </tr>\n",
       "    <tr>\n",
       "      <th>5804</th>\n",
       "      <td>is</td>\n",
       "      <td>526</td>\n",
       "    </tr>\n",
       "  </tbody>\n",
       "</table>\n",
       "</div>"
      ],
      "text/plain": [
       "      col_names  count\n",
       "11035       the   1074\n",
       "7864        not   1042\n",
       "5439          i   1011\n",
       "10802         t    994\n",
       "11270        to    938\n",
       "439           a    797\n",
       "2419         co    714\n",
       "5373       http    681\n",
       "9607    sarcasm    606\n",
       "5804         is    526"
      ]
     },
     "execution_count": 10,
     "metadata": {},
     "output_type": "execute_result"
    }
   ],
   "source": [
    "###############Description of the data set##########################################\n",
    "x_count_train_df = train_x_count.copy()\n",
    "word_count = pd.DataFrame(x_count_train_df.apply(sum,axis = 0)).reset_index()\n",
    "word_count.columns = ['col_names','count']\n",
    "word_count = word_count.sort_values(['count'],ascending = [False])\n",
    "\n",
    "\n",
    "#dropping the zero count words\n",
    "word_count = word_count[word_count['count']>0]\n",
    "\n",
    "word_count.head(10)"
   ]
  },
  {
   "cell_type": "code",
   "execution_count": 11,
   "metadata": {},
   "outputs": [
    {
     "data": {
      "image/png": "[encoded data removed]",
      "text/plain": [
       "<Figure size 432x288 with 1 Axes>"
      ]
     },
     "metadata": {},
     "output_type": "display_data"
    }
   ],
   "source": [
    "word_count = word_count.head(10)\n",
    "plt.bar(np.arange(len(word_count)),word_count['count'],0.5)\n",
    "plt.xticks(np.arange(len(word_count)), word_count['col_names'])\n",
    "plt.ylabel('word_count')\n",
    "plt.show()"
   ]
  },
  {
   "cell_type": "code",
   "execution_count": 12,
   "metadata": {},
   "outputs": [
    {
     "data": {
      "image/png": "[encoded data removed]",
      "text/plain": [
       "<Figure size 432x288 with 1 Axes>"
      ]
     },
     "metadata": {},
     "output_type": "display_data"
    }
   ],
   "source": [
    "# Feature Importance\n",
    "# fit an RFC model to the data\n",
    "model = ensemble.RandomForestClassifier()\n",
    "model.fit(train_x_count,train_y)\n",
    "# display the relative importance of each attribute\n",
    "importances_rf=pd.DataFrame(model.feature_importances_)\n",
    "col=pd.DataFrame(np.array(train_x_count.columns))\n",
    "\n",
    "\n",
    "feature_importances=pd.concat([col,importances_rf],axis=1)\n",
    "feature_importances.columns=[\"feature\",\"feature_importances.RF\"]\n",
    "feature_importances= feature_importances.sort_values(['feature_importances.RF'], ascending=False)\n",
    "feature_importances=feature_importances.reset_index(drop=True)\n",
    "\n",
    "top_features=feature_importances.feature.head(50)\n",
    "\n",
    "\n",
    "(pd.Series(model.feature_importances_, index=train_x_count.columns)\n",
    "   .nlargest(30)\n",
    "   .plot(kind='barh')) \n",
    "\n",
    "plt.show()"
   ]
  },
  {
   "cell_type": "code",
   "execution_count": 77,
   "metadata": {},
   "outputs": [
    {
     "data": {
      "image/png": "[encoded data removed]",
      "text/plain": [
       "<Figure size 432x288 with 1 Axes>"
      ]
     },
     "metadata": {},
     "output_type": "display_data"
    }
   ],
   "source": [
    "results=[]\n",
    "n_estimator_options=[50,100,200,300,400,500]\n",
    "\n",
    "for trees in n_estimator_options:\n",
    "    model=ensemble.RandomForestClassifier(trees,random_state=1)\n",
    "    model.fit(train_x_count,train_y)\n",
    "    predict=model.predict(valid_x_count)\n",
    "    err=1-model.score(valid_x_count,valid_y)\n",
    "    results.append(err)\n",
    "\n",
    "\n",
    "pd.Series(results,n_estimator_options).plot()\n",
    "plt.show()"
   ]
  },
  {
   "cell_type": "code",
   "execution_count": 13,
   "metadata": {},
   "outputs": [
    {
     "name": "stdout",
     "output_type": "stream",
     "text": [
      "preds     0    1\n",
      "actual          \n",
      "0       417   84\n",
      "1        21  437\n",
      "             precision    recall  f1-score   support\n",
      "\n",
      "          0       0.95      0.83      0.89       501\n",
      "          1       0.84      0.95      0.89       458\n",
      "\n",
      "avg / total       0.90      0.89      0.89       959\n",
      "\n",
      "Overall Accuracy: 0.89\n"
     ]
    }
   ],
   "source": [
    "top_features=feature_importances.feature.head(30)\n",
    "rf =ensemble.RandomForestClassifier(n_estimators=200,max_features=\"sqrt\",max_depth=10,min_samples_leaf=5,criterion=\"gini\")\n",
    "\n",
    "\n",
    "rf.fit(train_x_count[top_features],train_y)\n",
    "\n",
    "y_pred = rf.predict(valid_x_count[top_features].values)\n",
    "\n",
    "\n",
    "print (pd.crosstab(index=valid_y, columns=y_pred, rownames=['actual'], colnames=['preds']))\n",
    "print (metrics.classification_report(np.array(valid_y),y_pred))\n",
    "print (\"Overall Accuracy:\", round(metrics.accuracy_score(np.array(valid_y),y_pred),2))\n",
    "\n",
    "\n",
    "\n",
    "\n",
    "y_pred_vaild = pd.DataFrame( rf.predict(test_x_count[top_features].values))\n",
    "\n",
    "y_pred_vaild = y_pred_vaild.reset_index()\n",
    "y_pred_vaild.columns = ['Index','Label']\n",
    "y_pred_vaild.to_csv('rf_count.csv', sep=',', index=False)"
   ]
  },
  {
   "cell_type": "code",
   "execution_count": 14,
   "metadata": {},
   "outputs": [
    {
     "name": "stdout",
     "output_type": "stream",
     "text": [
      "             precision    recall  f1-score   support\n",
      "\n",
      "          0       0.77      0.87      0.82       501\n",
      "          1       0.83      0.72      0.77       458\n",
      "\n",
      "avg / total       0.80      0.80      0.79       959\n",
      "\n",
      "Overall Accuracy: 0.8\n"
     ]
    }
   ],
   "source": [
    "# Train Naive Bayes classifier\n",
    "\n",
    "gnb = GaussianNB()\n",
    "gnb.fit(train_x_count[top_features].values, train_y)\n",
    "y_pred = gnb.predict(valid_x_count[top_features].values)\n",
    "\n",
    "print (metrics.classification_report(np.array(valid_y),y_pred))\n",
    "print (\"Overall Accuracy:\", round(metrics.accuracy_score(np.array(valid_y),y_pred),2))\n",
    "\n",
    "y_pred_vaild = pd.DataFrame(gnb.predict(test_x_count[top_features].values))\n",
    "\n",
    "y_pred_vaild = y_pred_vaild.reset_index()\n",
    "y_pred_vaild.columns = ['Index','Label']\n",
    "y_pred_vaild.to_csv('nb_count.csv', sep=',', index=False)\n"
   ]
  },
  {
   "cell_type": "code",
   "execution_count": 15,
   "metadata": {},
   "outputs": [
    {
     "name": "stdout",
     "output_type": "stream",
     "text": [
      "preds     0    1\n",
      "actual          \n",
      "0       416   85\n",
      "1        41  417\n",
      "             precision    recall  f1-score   support\n",
      "\n",
      "          0       0.91      0.83      0.87       501\n",
      "          1       0.83      0.91      0.87       458\n",
      "\n",
      "avg / total       0.87      0.87      0.87       959\n",
      "\n",
      "Overall Accuracy: 0.87\n"
     ]
    }
   ],
   "source": [
    "#Train Logistic Regression \n",
    "top_features=feature_importances.feature.head(30)\n",
    "linearclassifier = linear_model.LogisticRegression()  \n",
    "linearclassifier.fit(train_x_count[top_features],train_y) \n",
    "\n",
    "y_pred = linearclassifier.predict(valid_x_count[top_features].values)\n",
    "\n",
    "\n",
    "print (pd.crosstab(index=valid_y, columns=y_pred, rownames=['actual'], colnames=['preds']))\n",
    "print (metrics.classification_report(np.array(valid_y),y_pred))\n",
    "print (\"Overall Accuracy:\", round(metrics.accuracy_score(np.array(valid_y),y_pred),2))\n"
   ]
  },
  {
   "cell_type": "code",
   "execution_count": 18,
   "metadata": {},
   "outputs": [
    {
     "name": "stdout",
     "output_type": "stream",
     "text": [
      "preds     0    1\n",
      "actual          \n",
      "0       358  143\n",
      "1         1  457\n",
      "             precision    recall  f1-score   support\n",
      "\n",
      "          0       1.00      0.71      0.83       501\n",
      "          1       0.76      1.00      0.86       458\n",
      "\n",
      "avg / total       0.88      0.85      0.85       959\n",
      "\n",
      "Overall Accuracy: 0.85\n"
     ]
    }
   ],
   "source": [
    "from sklearn.svm import SVC  \n",
    "top_features=feature_importances.feature.head(100)\n",
    "svclassifier = SVC(kernel='sigmoid',C=10,gamma=1e-2)  \n",
    "svclassifier.fit(train_x_count[top_features],train_y) \n",
    "\n",
    "y_pred = svclassifier.predict(valid_x_count[top_features].values)\n",
    "\n",
    "\n",
    "print (pd.crosstab(index=valid_y, columns=y_pred, rownames=['actual'], colnames=['preds']))\n",
    "print (metrics.classification_report(np.array(valid_y),y_pred))\n",
    "print (\"Overall Accuracy:\", round(metrics.accuracy_score(np.array(valid_y),y_pred),2))\n"
   ]
  },
  {
   "cell_type": "code",
   "execution_count": 22,
   "metadata": {},
   "outputs": [
    {
     "name": "stdout",
     "output_type": "stream",
     "text": [
      "preds     0    1\n",
      "actual          \n",
      "0       418   83\n",
      "1        35  423\n",
      "             precision    recall  f1-score   support\n",
      "\n",
      "          0       0.92      0.83      0.88       501\n",
      "          1       0.84      0.92      0.88       458\n",
      "\n",
      "avg / total       0.88      0.88      0.88       959\n",
      "\n",
      "Overall Accuracy: 0.88\n"
     ]
    },
    {
     "name": "stderr",
     "output_type": "stream",
     "text": [
      "C:\\ProgramData\\Anaconda3\\lib\\site-packages\\sklearn\\preprocessing\\label.py:151: DeprecationWarning: The truth value of an empty array is ambiguous. Returning False, but in future this will result in an error. Use `array.size > 0` to check that an array is not empty.\n",
      "  if diff:\n"
     ]
    }
   ],
   "source": [
    "from xgboost import XGBClassifier\n",
    "top_features=feature_importances.feature.head(50)\n",
    "xgmodel = XGBClassifier(max_depth=10, n_estimators=30, learning_rate=0.1)\n",
    "xgmodel.fit(train_x_count[top_features].values, train_y)\n",
    "\n",
    "y_pred = xgmodel.predict(valid_x_count[top_features].values)\n",
    "\n",
    "\n",
    "print (pd.crosstab(index=valid_y, columns=y_pred, rownames=['actual'], colnames=['preds']))\n",
    "print (metrics.classification_report(np.array(valid_y),y_pred))\n",
    "print (\"Overall Accuracy:\", round(metrics.accuracy_score(np.array(valid_y),y_pred),2))"
   ]
  },
  {
   "cell_type": "code",
   "execution_count": 50,
   "metadata": {},
   "outputs": [],
   "source": [
    "\n"
   ]
  },
  {
   "cell_type": "code",
   "execution_count": 23,
   "metadata": {},
   "outputs": [],
   "source": [
    "def PCA_analysis(data,train,valid,test):\n",
    "    pca = PCA(.95)\n",
    "    pca.fit(data)\n",
    "    pca_featurs = pca.transform(data)\n",
    "    pca_featurs = pd.DataFrame(data)\n",
    "\n",
    "    pca_trainx =  pca.transform(train)\n",
    "    pca_validx =  pca.transform(valid)\n",
    "    pca_testx =  pca.transform(test)\n",
    "\n",
    "\n",
    "    train_pca = pd.DataFrame(pca_trainx)\n",
    "    valid_pca = pd.DataFrame(pca_validx)\n",
    "    test_pca = pd.DataFrame(pca_testx)\n",
    "\n",
    "    #train_pca = pd.DataFrame(train)\n",
    "    #valid_pca = pd.DataFrame(valid)\n",
    "    #test_pca = pd.DataFrame(test)\n",
    "\n",
    "    return train_pca,valid_pca,test_pca\n"
   ]
  },
  {
   "cell_type": "markdown",
   "metadata": {},
   "source": [
    "# TFiDF count"
   ]
  },
  {
   "cell_type": "code",
   "execution_count": 24,
   "metadata": {},
   "outputs": [],
   "source": [
    "################### TFiDF count###############################################################\n",
    "features,train,valid,test = tfidf_count(data['Tweet text'],train_x,valid_x,test_x,'word',(1,1))\n",
    "train_x_tfidf,valid_x_tfidf,test_x_tfidf = PCA_analysis(features,train,valid,test)"
   ]
  },
  {
   "cell_type": "code",
   "execution_count": 25,
   "metadata": {},
   "outputs": [
    {
     "data": {
      "image/png": "[encoded data removed]",
      "text/plain": [
       "<Figure size 432x288 with 1 Axes>"
      ]
     },
     "metadata": {},
     "output_type": "display_data"
    }
   ],
   "source": [
    "# Feature Importance\n",
    "# fit an RFC model to the data\n",
    "model = ensemble.RandomForestClassifier()\n",
    "model.fit(train_x_tfidf,train_y)\n",
    "# display the relative importance of each attribute\n",
    "importances_rf=pd.DataFrame(model.feature_importances_)\n",
    "col=pd.DataFrame(np.array(train_x_tfidf.columns))\n",
    "\n",
    "\n",
    "feature_importances=pd.concat([col,importances_rf],axis=1)\n",
    "feature_importances.columns=[\"feature\",\"feature_importances.RF\"]\n",
    "feature_importances= feature_importances.sort_values(['feature_importances.RF'], ascending=False)\n",
    "feature_importances=feature_importances.reset_index(drop=True)\n",
    "\n",
    "top_features=feature_importances.feature.head(50)\n",
    "\n",
    "\n",
    "(pd.Series(model.feature_importances_, index=train_x_tfidf.columns)\n",
    "   .nlargest(30)\n",
    "   .plot(kind='barh')) \n",
    "\n",
    "plt.show()\n"
   ]
  },
  {
   "cell_type": "code",
   "execution_count": 55,
   "metadata": {},
   "outputs": [
    {
     "data": {
      "image/png": "[encoded data removed]",
      "text/plain": [
       "<Figure size 432x288 with 1 Axes>"
      ]
     },
     "metadata": {},
     "output_type": "display_data"
    }
   ],
   "source": [
    "results=[]\n",
    "n_estimator_options=[50,100,200,300,400,500]\n",
    "\n",
    "for trees in n_estimator_options:\n",
    "    model=ensemble.RandomForestClassifier(trees,random_state=1)\n",
    "    model.fit(train_x_tfidf,train_y)\n",
    "    predict=model.predict(valid_x_tfidf)\n",
    "    err=1-model.score(valid_x_tfidf,valid_y)\n",
    "    results.append(err)\n",
    "\n",
    "\n",
    "pd.Series(results,n_estimator_options).plot()\n",
    "plt.show()\n"
   ]
  },
  {
   "cell_type": "code",
   "execution_count": 27,
   "metadata": {},
   "outputs": [
    {
     "name": "stdout",
     "output_type": "stream",
     "text": [
      "preds     0    1\n",
      "actual          \n",
      "0       385  116\n",
      "1        95  363\n",
      "             precision    recall  f1-score   support\n",
      "\n",
      "          0       0.80      0.77      0.78       501\n",
      "          1       0.76      0.79      0.77       458\n",
      "\n",
      "avg / total       0.78      0.78      0.78       959\n",
      "\n",
      "Overall Accuracy: 0.78\n"
     ]
    }
   ],
   "source": [
    "top_features=feature_importances.feature.head(100)\n",
    "rf =ensemble.RandomForestClassifier(n_estimators=400,max_features=\"sqrt\",max_depth=10,min_samples_leaf=3,criterion=\"gini\")\n",
    "\n",
    "\n",
    "rf.fit(train_x_tfidf[top_features],train_y)\n",
    "\n",
    "y_pred = rf.predict(valid_x_tfidf[top_features].values)\n",
    "\n",
    "\n",
    "print (pd.crosstab(index=valid_y, columns=y_pred, rownames=['actual'], colnames=['preds']))\n",
    "\n",
    "\n",
    "print (metrics.classification_report(np.array(valid_y),y_pred))\n",
    "print (\"Overall Accuracy:\", round(metrics.accuracy_score(np.array(valid_y),y_pred),2))\n",
    "\n",
    "y_pred_vaild = pd.DataFrame( rf.predict(test_x_tfidf[top_features].values))\n",
    "\n",
    "y_pred_vaild = y_pred_vaild.reset_index()\n",
    "y_pred_vaild.columns = ['Index','Label']\n",
    "y_pred_vaild.to_csv('rf_tfidf.csv', sep=',', index=False)"
   ]
  },
  {
   "cell_type": "code",
   "execution_count": null,
   "metadata": {},
   "outputs": [],
   "source": [
    "train_x['char_count'] = train_x['Tweet text'].apply(len)\n",
    "train_x['word_count'] = train_x['Tweet text'].apply(lambda x: len(x.split()))\n",
    "train_x['word_density'] = train_x['char_count'] / (train_x['word_count']+1)\n",
    "train_x['punctuation_count'] = train_x['Tweet text'].apply(lambda x: len(\"\".join(_ for _ in x if _ in string.punctuation))) \n",
    "train_x['title_word_count'] = train_x['Tweet text'].apply(lambda x: len([wrd for wrd in x.split() if wrd.istitle()]))\n",
    "train_x['upper_case_word_count'] = train_x['Tweet text'].apply(lambda x: len([wrd for wrd in x.split() if wrd.isupper()]))\n",
    "\n",
    "valid_x['char_count'] = valid_x['Tweet text'].apply(len)\n",
    "valid_x['word_count'] = valid_x['Tweet text'].apply(lambda x: len(x.split()))\n",
    "valid_x['word_density'] = valid_x['char_count'] / (valid_x['word_count']+1)\n",
    "valid_x['punctuation_count'] = valid_x['Tweet text'].apply(lambda x: len(\"\".join(_ for _ in x if _ in string.punctuation))) \n",
    "valid_x['title_word_count'] = valid_x['Tweet text'].apply(lambda x: len([wrd for wrd in x.split() if wrd.istitle()]))\n",
    "valid_x['upper_case_word_count'] = valid_x['Tweet text'].apply(lambda x: len([wrd for wrd in x.split() if wrd.isupper()]))\n",
    "\n",
    "\n",
    "\n",
    "test_x['char_count'] = test_x['Text'].apply(len)\n",
    "test_x['word_count'] = test_x['Text'].apply(lambda x: len(x.split()))\n",
    "test_x['word_density'] = test_x['char_count'] / (test_x['word_count']+1)\n",
    "test_x['punctuation_count'] = test_x['Text'].apply(lambda x: len(\"\".join(_ for _ in x if _ in string.punctuation))) \n",
    "test_x['title_word_count'] = test_x['Text'].apply(lambda x: len([wrd for wrd in x.split() if wrd.istitle()]))\n",
    "test_x['upper_case_word_count'] = test_x['Text'].apply(lambda x: len([wrd for wrd in x.split() if wrd.isupper()]))"
   ]
  }
 ],
 "metadata": {
  "kernelspec": {
   "display_name": "Python 3",
   "language": "python",
   "name": "python3"
  },
  "language_info": {
   "codemirror_mode": {
    "name": "ipython",
    "version": 3
   },
   "file_extension": ".py",
   "mimetype": "text/x-python",
   "name": "python",
   "nbconvert_exporter": "python",
   "pygments_lexer": "ipython3",
   "version": "3.6.5"
  }
 },
 "nbformat": 4,
 "nbformat_minor": 2
}
